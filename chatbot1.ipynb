{
 "cells": [
  {
   "cell_type": "code",
   "execution_count": 14,
   "metadata": {},
   "outputs": [],
   "source": [
    "from langchain_core.documents import Document\n",
    "\n",
    "documents = [\n",
    "    Document(\n",
    "        page_content=\"Dog are great companions\",\n",
    "        metadata ={\"source\":\"mammal-pets-docs\"}\n",
    "    ),\n",
    "    Document(\n",
    "        page_content=\"Cats are independent creatures.\",\n",
    "        metadata={\"source\": \"mammal-pets-docs\"}\n",
    "    ),\n",
    "    Document(\n",
    "        page_content=\"Python is a high-level programming language.\",\n",
    "        metadata={\"source\": \"programming-languages-docs\"}\n",
    "    ),\n",
    "    Document(\n",
    "        page_content=\"The Eiffel Tower is a wrought iron lattice tower on the Champ de Mars in Paris.\",\n",
    "        metadata={\"source\": \"world-landmarks-docs\"}\n",
    "    ),\n",
    "    Document(\n",
    "        page_content=\"Quantum computing is an area of computer science that uses quantum-mechanical phenomena to perform computation.\",\n",
    "        metadata={\"source\": \"technology-docs\"}\n",
    "    )\n",
    "]"
   ]
  },
  {
   "cell_type": "code",
   "execution_count": 15,
   "metadata": {},
   "outputs": [],
   "source": [
    "# VectorStores\n",
    "from langchain_chroma import Chroma"
   ]
  },
  {
   "cell_type": "code",
   "execution_count": 16,
   "metadata": {},
   "outputs": [
    {
     "data": {
      "text/plain": [
       "ChatGroq(client=<groq.resources.chat.completions.Completions object at 0x7f1e5017a060>, async_client=<groq.resources.chat.completions.AsyncCompletions object at 0x7f1e5017a960>, model_name='Llama3-8b-8192', groq_api_key=SecretStr('**********'))"
      ]
     },
     "execution_count": 16,
     "metadata": {},
     "output_type": "execute_result"
    }
   ],
   "source": [
    "import os\n",
    "from dotenv import load_dotenv\n",
    "from langchain_groq import ChatGroq\n",
    "load_dotenv()\n",
    "groq_api_key=os.getenv(\"GROQ_API_KEY\")\n",
    "os.environ[\"HF_TOKEN\"]=os.getenv(\"HF_TOKEN\")\n",
    "\n",
    "llm=ChatGroq(groq_api_key=groq_api_key, model=\"Llama3-8b-8192\")\n",
    "llm"
   ]
  },
  {
   "cell_type": "code",
   "execution_count": 17,
   "metadata": {},
   "outputs": [],
   "source": [
    "from langchain_huggingface import HuggingFaceEmbeddings\n",
    "embeddings=HuggingFaceEmbeddings(model_name=\"all-MiniLM-L6-v2\")"
   ]
  },
  {
   "cell_type": "code",
   "execution_count": 18,
   "metadata": {},
   "outputs": [
    {
     "data": {
      "text/plain": [
       "<langchain_chroma.vectorstores.Chroma at 0x7f1e402639e0>"
      ]
     },
     "execution_count": 18,
     "metadata": {},
     "output_type": "execute_result"
    }
   ],
   "source": [
    "# VectorStores\n",
    "from langchain_chroma import Chroma\n",
    "Vectorstores=Chroma.from_documents(documents,embedding=embeddings)\n",
    "Vectorstores"
   ]
  },
  {
   "cell_type": "code",
   "execution_count": 21,
   "metadata": {},
   "outputs": [
    {
     "data": {
      "text/plain": [
       "[Document(metadata={'source': 'mammal-pets-docs'}, page_content='Cats are independent creatures.'),\n",
       " Document(metadata={'source': 'mammal-pets-docs'}, page_content='Cats are independent creatures.'),\n",
       " Document(metadata={'source': 'mammal-pets-docs'}, page_content='Cats are independent creatures.'),\n",
       " Document(metadata={'source': 'mammal-pets-docs'}, page_content='Dog are great companions')]"
      ]
     },
     "execution_count": 21,
     "metadata": {},
     "output_type": "execute_result"
    }
   ],
   "source": [
    "# Async query\n",
    "await Vectorstores.asimilarity_search(\"cat\")"
   ]
  },
  {
   "cell_type": "code",
   "execution_count": null,
   "metadata": {},
   "outputs": [],
   "source": [
    "Vectorstores.similarity_search_with_score(\"cat\")"
   ]
  },
  {
   "cell_type": "code",
   "execution_count": 26,
   "metadata": {},
   "outputs": [
    {
     "data": {
      "text/plain": [
       "[Document(metadata={'source': 'mammal-pets-docs'}, page_content='Cats are independent creatures.')]"
      ]
     },
     "execution_count": 26,
     "metadata": {},
     "output_type": "execute_result"
    }
   ],
   "source": [
    "# Retrivers\n",
    "from typing import List\n",
    "\n",
    "from langchain_core.documents import Document\n",
    "from langchain_core.runnables import RunnableLambda\n",
    "\n",
    "retriver=RunnableLambda(Vectorstores.similarity_search).bind(k=1)\n",
    "retriver.batch([\"cat\",\"dog\"])\n",
    "retriver.invoke(\"cat\")"
   ]
  },
  {
   "cell_type": "code",
   "execution_count": 29,
   "metadata": {},
   "outputs": [
    {
     "data": {
      "text/plain": [
       "[[Document(metadata={'source': 'mammal-pets-docs'}, page_content='Cats are independent creatures.')],\n",
       " [Document(metadata={'source': 'mammal-pets-docs'}, page_content='Dog are great companions')]]"
      ]
     },
     "execution_count": 29,
     "metadata": {},
     "output_type": "execute_result"
    }
   ],
   "source": [
    "Vectorstores.as_retriever(\n",
    "    search_type=\"similarity\",\n",
    "    search_kwargs={\"k\":1}\n",
    ")\n",
    "retriver.batch([\"cat\",\"dog\"])"
   ]
  },
  {
   "cell_type": "code",
   "execution_count": 30,
   "metadata": {},
   "outputs": [
    {
     "name": "stdout",
     "output_type": "stream",
     "text": [
      "According to the provided context, dogs are great companions.\n"
     ]
    }
   ],
   "source": [
    "\"RAG\"\n",
    "\n",
    "from langchain_core.prompts import ChatPromptTemplate\n",
    "from langchain_core.runnables import RunnablePassthrough\n",
    "\n",
    "message = \"\"\"\n",
    "Answer this question using the provided context only.\n",
    "\n",
    "{question}\n",
    "\n",
    "Context:\n",
    "{context}\n",
    "\"\"\"\n",
    "\n",
    "prompt = ChatPromptTemplate.from_messages([('human',message)])\n",
    "rag_chain = {\"context\" : retriver,\"question\":RunnablePassthrough()}|prompt|llm\n",
    "response = rag_chain.invoke(\"tell me about dogs\")\n",
    "\n",
    "print(response.content)\n"
   ]
  },
  {
   "cell_type": "code",
   "execution_count": 1,
   "metadata": {},
   "outputs": [
    {
     "ename": "ImportError",
     "evalue": "cannot import name 'Ollama' from 'ollama' (/workspace/.pyenv_mirror/user/current/lib/python3.12/site-packages/ollama/__init__.py)",
     "output_type": "error",
     "traceback": [
      "\u001b[0;31m---------------------------------------------------------------------------\u001b[0m",
      "\u001b[0;31mImportError\u001b[0m                               Traceback (most recent call last)",
      "Cell \u001b[0;32mIn[1], line 1\u001b[0m\n\u001b[0;32m----> 1\u001b[0m \u001b[38;5;28;01mfrom\u001b[39;00m \u001b[38;5;21;01mollama\u001b[39;00m \u001b[38;5;28;01mimport\u001b[39;00m Ollama\n\u001b[1;32m      5\u001b[0m ollama \u001b[38;5;241m=\u001b[39m Ollama(model\u001b[38;5;241m=\u001b[39m\u001b[38;5;124m\"\u001b[39m\u001b[38;5;124mphi3\u001b[39m\u001b[38;5;124m\"\u001b[39m)  \u001b[38;5;66;03m# Replace with your model name\u001b[39;00m\n\u001b[1;32m      6\u001b[0m ollama\u001b[38;5;241m.\u001b[39mstart()\n",
      "\u001b[0;31mImportError\u001b[0m: cannot import name 'Ollama' from 'ollama' (/workspace/.pyenv_mirror/user/current/lib/python3.12/site-packages/ollama/__init__.py)"
     ]
    }
   ],
   "source": [
    "from ollama import Ollama\n",
    "\n",
    "   \n",
    "\n",
    "ollama = Ollama(model=\"phi3\")  # Replace with your model name\n",
    "ollama.start()"
   ]
  }
 ],
 "metadata": {
  "kernelspec": {
   "display_name": "Python 3",
   "language": "python",
   "name": "python3"
  },
  "language_info": {
   "codemirror_mode": {
    "name": "ipython",
    "version": 3
   },
   "file_extension": ".py",
   "mimetype": "text/x-python",
   "name": "python",
   "nbconvert_exporter": "python",
   "pygments_lexer": "ipython3",
   "version": "3.12.4"
  }
 },
 "nbformat": 4,
 "nbformat_minor": 2
}
