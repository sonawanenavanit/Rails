{
 "cells": [
  {
   "cell_type": "code",
   "execution_count": 1,
   "metadata": {},
   "outputs": [
    {
     "data": {
      "text/plain": [
       "True"
      ]
     },
     "execution_count": 1,
     "metadata": {},
     "output_type": "execute_result"
    }
   ],
   "source": [
    "import os\n",
    "from dotenv import load_dotenv\n",
    "load_dotenv()\n"
   ]
  },
  {
   "cell_type": "code",
   "execution_count": 2,
   "metadata": {},
   "outputs": [
    {
     "data": {
      "text/plain": [
       "ChatGroq(client=<groq.resources.chat.completions.Completions object at 0x7f074d948710>, async_client=<groq.resources.chat.completions.AsyncCompletions object at 0x7f074d9491c0>, model_name='Gemma-7b-It', groq_api_key=SecretStr('**********'))"
      ]
     },
     "execution_count": 2,
     "metadata": {},
     "output_type": "execute_result"
    }
   ],
   "source": [
    "from langchain_groq import ChatGroq\n",
    "api_key=os.getenv(\"GROQ_API_KEY\")\n",
    "llm=ChatGroq(groq_api_key=api_key,model=\"Gemma-7b-It\")\n",
    "llm"
   ]
  },
  {
   "cell_type": "code",
   "execution_count": 3,
   "metadata": {},
   "outputs": [],
   "source": [
    "from langchain.schema import (\n",
    "    AIMessage,\n",
    "    HumanMessage,SystemMessage\n",
    ")"
   ]
  },
  {
   "cell_type": "code",
   "execution_count": 4,
   "metadata": {},
   "outputs": [],
   "source": [
    "speech = \"\"\"\n",
    "Today, as we stand united under the tricolour, let us celebrate the extraordinary diversity of our nation. India is a kaleidoscope of cultures, languages, and religions, yet we are bound together by the spirit of oneness. From the snow-capped Himalayas to the sun-kissed beaches of Kerala, we are a nation of contrasts, but our hearts beat as one.\n",
    "Let us cherish our differences, for they enrich our lives. Let us respect each other’s beliefs and traditions. Let us work together to build a harmonious and inclusive India. Only then can we truly realize the dream of our freedom fighters.\n",
    "Let us pledge to uphold the values of unity, peace, and progress. Together, we can create a brighter future for our beloved country. Jai Hind!\n",
    "\"\"\""
   ]
  },
  {
   "cell_type": "code",
   "execution_count": 5,
   "metadata": {},
   "outputs": [],
   "source": [
    "chat_message=[\n",
    "    SystemMessage(content=\"YOu are expert with expertise in summarizing speedched\"),\n",
    "    HumanMessage(content=f\"Please provide a short and concise summary of the follow speech: \\n Text:{speech}\")\n",
    "]"
   ]
  },
  {
   "cell_type": "code",
   "execution_count": 6,
   "metadata": {},
   "outputs": [
    {
     "name": "stderr",
     "output_type": "stream",
     "text": [
      "/workspace/.pyenv_mirror/user/current/lib/python3.12/site-packages/tqdm/auto.py:21: TqdmWarning: IProgress not found. Please update jupyter and ipywidgets. See https://ipywidgets.readthedocs.io/en/stable/user_install.html\n",
      "  from .autonotebook import tqdm as notebook_tqdm\n"
     ]
    },
    {
     "data": {
      "text/plain": [
       "169"
      ]
     },
     "execution_count": 6,
     "metadata": {},
     "output_type": "execute_result"
    }
   ],
   "source": [
    "llm.get_num_tokens(speech)"
   ]
  },
  {
   "cell_type": "code",
   "execution_count": 9,
   "metadata": {},
   "outputs": [
    {
     "data": {
      "text/plain": [
       "AIMessage(content='**Speech Summary:**\\n\\nThe speech celebrates the remarkable diversity of India, emphasizing its rich cultural, linguistic, and religious heritage. It calls for unity and respect among all citizens, regardless of their differences. The speaker emphasizes the importance of fostering a harmonious and inclusive society, guided by the values of unity, peace, and progress.', response_metadata={'token_usage': {'completion_tokens': 66, 'prompt_tokens': 198, 'total_tokens': 264, 'completion_time': 0.076579984, 'prompt_time': 0.169579209, 'queue_time': None, 'total_time': 0.246159193}, 'model_name': 'Gemma-7b-It', 'system_fingerprint': 'fp_e3b292b95f', 'finish_reason': 'stop', 'logprobs': None}, id='run-61ee079c-5081-49ea-bbf3-18e62b8eb543-0', usage_metadata={'input_tokens': 198, 'output_tokens': 66, 'total_tokens': 264})"
      ]
     },
     "execution_count": 9,
     "metadata": {},
     "output_type": "execute_result"
    }
   ],
   "source": [
    "llm(chat_message)"
   ]
  },
  {
   "cell_type": "markdown",
   "metadata": {},
   "source": [
    "Prompt Template Text Summarization"
   ]
  },
  {
   "cell_type": "code",
   "execution_count": 20,
   "metadata": {},
   "outputs": [
    {
     "data": {
      "text/plain": [
       "PromptTemplate(input_variables=['language', 'speech'], template='\\nWrite a summary of the following speech\\nSpeech:{speech}\\nTranslate the precise summary to {language}\\n')"
      ]
     },
     "execution_count": 20,
     "metadata": {},
     "output_type": "execute_result"
    }
   ],
   "source": [
    "from langchain.chains import LLMChain\n",
    "# llm|prompt|stroutput\n",
    "from langchain import PromptTemplate\n",
    "\n",
    "gengerictemplate=\"\"\"\n",
    "Write a summary of the following speech\n",
    "Speech:{speech}\n",
    "Translate the precise summary to {language}\n",
    "\"\"\"\n",
    "\n",
    "prompt = PromptTemplate(\n",
    "    input_variables=['speech','language'],\n",
    "    template=gengerictemplate\n",
    ")\n",
    "prompt\n"
   ]
  },
  {
   "cell_type": "code",
   "execution_count": 21,
   "metadata": {},
   "outputs": [
    {
     "data": {
      "text/plain": [
       "'\\nWrite a summary of the following speech\\nSpeech:\\nToday, as we stand united under the tricolour, let us celebrate the extraordinary diversity of our nation. India is a kaleidoscope of cultures, languages, and religions, yet we are bound together by the spirit of oneness. From the snow-capped Himalayas to the sun-kissed beaches of Kerala, we are a nation of contrasts, but our hearts beat as one.\\n\\nLet us cherish our differences, for they enrich our lives. Let us respect each other’s beliefs and traditions. Let us work together to build a harmonious and inclusive India. Only then can we truly realize the dream of our freedom fighters.\\n\\nLet us pledge to uphold the values of unity, peace, and progress. Together, we can create a brighter future for our beloved country. Jai Hind!\\n\\nTranslate the precise summary to Hindi\\n'"
      ]
     },
     "execution_count": 21,
     "metadata": {},
     "output_type": "execute_result"
    }
   ],
   "source": [
    "complete_prompt = prompt.format(speech=speech,language=\"Hindi\")\n",
    "complete_prompt"
   ]
  },
  {
   "cell_type": "code",
   "execution_count": 22,
   "metadata": {},
   "outputs": [
    {
     "data": {
      "text/plain": [
       "190"
      ]
     },
     "execution_count": 22,
     "metadata": {},
     "output_type": "execute_result"
    }
   ],
   "source": [
    "llm.get_num_tokens(complet_prompt)"
   ]
  },
  {
   "cell_type": "code",
   "execution_count": 23,
   "metadata": {},
   "outputs": [
    {
     "data": {
      "text/plain": [
       "'**Summary:**\\n\\nभारतीय राष्ट्र के त्रिकालर के नीचे एकजित होकर आज हम अपने राष्ट्र के अद्भुत विविधता का उत्सव करते हैं। भारत विभिन्न संस्कृतियों, भाषाओं और धर्मों का एक कलैडोग्राम है, फिर भी हम एकता की भावना से बद्ध हैं। हिमालयों के बरफदार हिस्से से केरल के सूर्य से सुगमित तटों तक, हम विभिन्न प्रकार के लोग हैं, लेकिन हमारे हृदय एक साथ धड़कते हैं।\\n\\nहम अपने भिन्नता को गत्मसंगृही बनाए रखें, क्योंकि वे हमारे जीवन का समृद्धता लाता है। हम एक दूसरे के धर्म और संस्कारों का सम्मान करें। हम मिलकर एक समृद्ध और समावेशी भारत बनाने के लिए काम करें। केवल इस तरह हम अपने वरीयता से मुक्त देश के सपने को पूरा कर सकते हैं।\\n\\n**धारीक अनुवाद:**\\n\\nभारतीय राष्ट्र के त्रिकालर के नीचे एकजित होकर आज हम अपने राष्ट्र के अद्भुत विविधता का उत्सव करते हैं। भारत विभिन्न संस्कृतियों, भाषाओं और धर्मों का एक कलैडोग्राम है, फिर भी हम एकता की भावना से बद्ध हैं। हिमालयों के बरफदार हिस्से से केरल के सूर्य से सुगमित तटों तक, हम विभिन्न प्रकार के लोग हैं, लेकिन हमारे हृदय एक साथ धड़कते हैं।\\n\\nहम अपने भिन्नता को गत्मसंगृही बनाए रखें, क्योंकि वे हमारे जीवन का समृद्धता लाता है। हम एक दूसरे के धर्म और संस्कारों का सम्मान करें। हम मिलकर एक समृद्ध और समावेशी भारत बनाने के लिए काम करें। केवल इस तरह हम अपने वरीयता से मुक्त देश के सपने को पूरा कर सकते हैं।'"
      ]
     },
     "execution_count": 23,
     "metadata": {},
     "output_type": "execute_result"
    }
   ],
   "source": [
    "llm_chain=LLMChain(llm=llm,prompt=prompt)\n",
    "summary=llm_chain.run({\"speech\":speech,\"language\":\"Hindi\"})\n",
    "summary"
   ]
  },
  {
   "cell_type": "code",
   "execution_count": null,
   "metadata": {},
   "outputs": [],
   "source": []
  }
 ],
 "metadata": {
  "kernelspec": {
   "display_name": "Python 3",
   "language": "python",
   "name": "python3"
  },
  "language_info": {
   "codemirror_mode": {
    "name": "ipython",
    "version": 3
   },
   "file_extension": ".py",
   "mimetype": "text/x-python",
   "name": "python",
   "nbconvert_exporter": "python",
   "pygments_lexer": "ipython3",
   "version": "3.12.4"
  }
 },
 "nbformat": 4,
 "nbformat_minor": 2
}
